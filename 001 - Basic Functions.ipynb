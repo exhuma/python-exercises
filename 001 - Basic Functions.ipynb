{
 "cells": [
  {
   "cell_type": "markdown",
   "metadata": {},
   "source": [
    "# About this Page\n",
    "\n",
    "This page is a \"Jupyter Notebooks\" which contains blocks (called \"cells\") of Python code.\n",
    "\n",
    "Each cell containing Python code can also be simply copy/pasted into your personal Python editor if you want to try it out on your computer.\n",
    "\n",
    "## Running code\n",
    "\n",
    "To run the code in a cell, select it by clicking on it and hit \"SHIFT + Enter\" on the keyboard. You can also click the \"Run\" button in the toolbar if the cell is selected.\n",
    "\n",
    "\n",
    "## Utility Code\n",
    "\n",
    "The code in the cell below (with the heading \"utilities\" are **not** part of the exercises. This cell can be ignored."
   ]
  },
  {
   "cell_type": "code",
   "execution_count": 19,
   "metadata": {},
   "outputs": [],
   "source": [
    "# Utilities - Ignore this cell!\n",
    "\n",
    "def readable_value(value):\n",
    "    \"\"\"\n",
    "    Makes sure the value is easier to read than the default output\n",
    "    \"\"\"\n",
    "    if isinstance(value, float):\n",
    "        output = f\"{value:.2f}\"\n",
    "    else:\n",
    "        output = str(value)\n",
    "    return output\n",
    "\n",
    "\n",
    "def check_result(result, expected):\n",
    "    icon = \"✓\" if result == expected else \"✗\"\n",
    "\n",
    "    print(f\"The result should be \"\n",
    "          f\"{readable_value(expected):10s} and it is \"\n",
    "          f\"{readable_value(result):10s}: {icon}\")"
   ]
  },
  {
   "cell_type": "markdown",
   "metadata": {},
   "source": [
    "# Using Variables\n",
    "\n",
    "The code below contains a lot of duplicated values. Remove them by using the variables appropriately. Each numerical value should only appear once!"
   ]
  },
  {
   "cell_type": "code",
   "execution_count": 1,
   "metadata": {},
   "outputs": [
    {
     "name": "stdout",
     "output_type": "stream",
     "text": [
      "The speed in km/h is: 12.0km/h\n",
      "The speed in km/h is: 90.0km/h\n",
      "The speed in km/h is: 133.2583468395462km/h\n"
     ]
    }
   ],
   "source": [
    "time = 30\n",
    "distance = 100\n",
    "speed_ms = 100 / 30\n",
    "speed_kmh = 100 / 30 * 3.6\n",
    "print(f\"The speed in km/h is: {speed_kmh}km/h\")\n",
    "\n",
    "time = 600\n",
    "distance = 15000\n",
    "speed_ms = 15000 / 600\n",
    "speed_kmh = 15000 / 600 * 3.6\n",
    "print(f\"The speed in km/h is: {speed_kmh}km/h\")\n",
    "\n",
    "time = 1234\n",
    "distance = 45678\n",
    "speed_ms = 45678 / 1234\n",
    "speed_kmh = 45678 / 1234 * 3.6\n",
    "print(f\"The speed in km/h is: {speed_kmh}km/h\")"
   ]
  },
  {
   "cell_type": "markdown",
   "metadata": {},
   "source": [
    "# Functions\n",
    "\n",
    "The examples above, execute the same code 3 times. A _function_ can be used to remove duplication in code. Complete the function below. The code should have the exact same output as the one above.\n",
    "\n",
    "Apart from removing code duplication, what other advantages of functions can you think of?"
   ]
  },
  {
   "cell_type": "code",
   "execution_count": 2,
   "metadata": {},
   "outputs": [],
   "source": [
    "def print_speed(distance, time):\n",
    "    # Replace the \"pass\" statement with the correct function implementation\n",
    "    pass\n",
    "\n",
    "# Now call the function 3 times with the same values as above."
   ]
  },
  {
   "cell_type": "markdown",
   "metadata": {},
   "source": [
    "# Function Examples\n",
    "\n",
    "Implement the functions below as documented in the function itself by replacing the `pass` statement with the correct code. If the function has the text `*arg, **kwargs` in the first line, it needs to be replaced with the correct arguments. When running this cell, the correctness of the function will be shown below the cell.\n",
    "\n",
    "For example, a function that doubles a numerical value passed to it will be written like this:\n",
    "\n",
    "    def doubleit(*args, **kwargs):\n",
    "        pass\n",
    "        \n",
    "And it must be replaced with the following:\n",
    "\n",
    "    def doubleit(value):\n",
    "        return value * 2"
   ]
  },
  {
   "cell_type": "code",
   "execution_count": 5,
   "metadata": {},
   "outputs": [
    {
     "name": "stdout",
     "output_type": "stream",
     "text": [
      "The result should be 12.00      and it is None      : ✗\n",
      "The result should be 0.00       and it is None      : ✗\n",
      "The result should be 115.20     and it is None      : ✗\n"
     ]
    }
   ],
   "source": [
    "from util import check_result\n",
    "\n",
    "def calculate_kmh(*args, **kwargs):\n",
    "    \"\"\"\n",
    "    This function should take two arguments, the distance in meters, and the time in seconds.\n",
    "    It must return the speed in km/h\n",
    "    \"\"\"\n",
    "    pass\n",
    "\n",
    "result_1 = calculate_kmh(100, 30)\n",
    "result_2 = calculate_kmh(0, 500)\n",
    "result_3 = calculate_kmh(80000, 2500)\n",
    "\n",
    "check_result(result_1, 12.0)\n",
    "check_result(result_2, 0.0)\n",
    "check_result(result_3, 115.2)"
   ]
  },
  {
   "cell_type": "code",
   "execution_count": 9,
   "metadata": {},
   "outputs": [
    {
     "name": "stdout",
     "output_type": "stream",
     "text": [
      "The result should be 2          and it is None      : ✗\n",
      "The result should be 3          and it is None      : ✗\n",
      "The result should be 0          and it is None      : ✗\n"
     ]
    }
   ],
   "source": [
    "from util import check_result\n",
    "\n",
    "def letter_count(*args, **kwargs):\n",
    "    \"\"\"\n",
    "    This function should take a text and a letter as input.\n",
    "    It should return the number of times the letter appears\n",
    "    in the text.\n",
    "    \"\"\"\n",
    "    pass\n",
    "\n",
    "result_1 = letter_count(\"This is an example text.\", \"a\")\n",
    "result_2 = letter_count(\"This is an example text.\", \"e\")\n",
    "result_3 = letter_count(\"This is an example text.\", \"z\")\n",
    "\n",
    "check_result(result_1, 2)\n",
    "check_result(result_2, 3)\n",
    "check_result(result_3, 0)"
   ]
  },
  {
   "cell_type": "code",
   "execution_count": 18,
   "metadata": {},
   "outputs": [
    {
     "name": "stdout",
     "output_type": "stream",
     "text": [
      "The result should be olleH      and it is None      : ✗\n",
      "The result should be            and it is None      : ✗\n",
      "The result should be level      and it is None      : ✗\n"
     ]
    }
   ],
   "source": [
    "from util import check_result\n",
    "\n",
    "def reverse_text(*args, **kwargs):\n",
    "    \"\"\"\n",
    "    This function should take a text, reverse it and return the result\n",
    "    \"\"\"\n",
    "    pass\n",
    "\n",
    "result_1 = reverse_text(\"Hello\")\n",
    "result_2 = reverse_text(\"\")\n",
    "result_3 = reverse_text(\"level\")\n",
    "\n",
    "check_result(result_1, \"olleH\")\n",
    "check_result(result_2, \"\")\n",
    "check_result(result_3, \"level\")"
   ]
  },
  {
   "cell_type": "code",
   "execution_count": null,
   "metadata": {},
   "outputs": [],
   "source": []
  }
 ],
 "metadata": {
  "kernelspec": {
   "display_name": "Python 3",
   "language": "python",
   "name": "python3"
  },
  "language_info": {
   "codemirror_mode": {
    "name": "ipython",
    "version": 3
   },
   "file_extension": ".py",
   "mimetype": "text/x-python",
   "name": "python",
   "nbconvert_exporter": "python",
   "pygments_lexer": "ipython3",
   "version": "3.8.0"
  }
 },
 "nbformat": 4,
 "nbformat_minor": 4
}

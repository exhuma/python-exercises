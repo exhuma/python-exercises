{
 "cells": [
  {
   "cell_type": "markdown",
   "metadata": {},
   "source": [
    "# About this Page\n",
    "\n",
    "This page is a \"Jupyter Notebooks\" which contains blocks (called \"cells\") of Python code.\n",
    "\n",
    "Each cell containing Python code can also be simply copy/pasted into your personal Python editor if you want to try it out on your computer.\n",
    "\n",
    "## Running code\n",
    "\n",
    "To run the code in a cell, select it by clicking on it and hit \"SHIFT + Enter\" on the keyboard. You can also click the \"Run\" button in the toolbar if the cell is selected.\n",
    "\n",
    "## Saving/Downloading Code\n",
    "\n",
    "If you want to get a copy of the content of this \"notebook\" you can click on the \"File\" menu and select \"Download as\". There are two formats which are interesting:\n",
    "\n",
    "* **Python (.py)**: This will download a Python file that can be run in any Python editor\n",
    "* Notebook (.ipynb): This will download a special file that can be opened in a Jupyter notebook (if you have Jupyter installed)."
   ]
  },
  {
   "cell_type": "markdown",
   "metadata": {},
   "source": [
    "# Variables\n",
    "\n",
    "Variables are one of the main building blocks of programming. An easy way to think about it, is that a variable is a label for a value. It allows the same value be reused over and over again. For example, the code below uses the same value multiple times:\n",
    "\n",
    "    print(\"The total price for one hour is:\", 60 * 0.16)\n",
    "    print(\"The total price for two hours is:\", 120 * 0.16)\n",
    "    \n",
    "This can be simplified by using a variable for the \"price per hour\". Variable names can be chosen freely. It is useful to use a name that represents what kind of value it contains. For example:\n",
    "\n",
    "    price_per_minute = 0.16\n",
    "    print(\"The total price for one hour is:\", 60 * price_per_minute)\n",
    "    print(\"The total price for two hours is:\", 120 * price_per_minute)\n",
    "\n",
    "The code below contains a lot of duplicated values. Remove them by using creating new variables. Each numerical value should only appear once!"
   ]
  },
  {
   "cell_type": "code",
   "execution_count": null,
   "metadata": {},
   "outputs": [],
   "source": [
    "speed_ms = 100 / 30\n",
    "speed_kmh = 100 / 30 * 3.6\n",
    "print(f\"The speed in km/h is: {speed_kmh}km/h\")\n",
    "\n",
    "distance = 15000\n",
    "speed_ms = 15000 / 600\n",
    "speed_kmh = 15000 / 600 * 3.6\n",
    "print(f\"The speed in km/h is: {speed_kmh}km/h\")\n",
    "\n",
    "speed_ms = 45678 / 1234\n",
    "speed_kmh = 45678 / 1234 * 3.6\n",
    "print(f\"The speed in km/h is: {speed_kmh}km/h\")"
   ]
  },
  {
   "cell_type": "markdown",
   "metadata": {},
   "source": [
    "# Conditionals\n",
    "\n",
    "A conditional allows to execute a section of code, only if a condition is true. For example, only execute a code-block for values above a certain number, or only for every even number. A conditional is using the `if` statement in Python in most cases.\n",
    "\n",
    "### Example (feel free to edit and play around)"
   ]
  },
  {
   "cell_type": "code",
   "execution_count": null,
   "metadata": {},
   "outputs": [],
   "source": [
    "value = 30\n",
    "if value > 20:\n",
    "    print(\"Value is bigger than 20\")\n",
    "else:\n",
    "    print(\"Value is lower than or equal to 20\")"
   ]
  },
  {
   "cell_type": "markdown",
   "metadata": {},
   "source": [
    "# Loops\n",
    "\n",
    "In programming \"loops\" are used to repeat the same code-section multiple times. There are two types of loops in Python: \"for\" loops and \"while\" loops. A \"for\" loop executes the same code for every element in a list, and a \"while\" loop executes a code-block as long as a condition is true.\n",
    "\n",
    "### Example \"while\" loop"
   ]
  },
  {
   "cell_type": "code",
   "execution_count": null,
   "metadata": {},
   "outputs": [],
   "source": [
    "count = 2\n",
    "while count < 20:\n",
    "    print(f\"Count {count} is still smaller than 20...\")\n",
    "    count = count * 2\n",
    "print(\"Count has surpassed 20\")"
   ]
  },
  {
   "cell_type": "markdown",
   "metadata": {},
   "source": [
    "### Example \"for\" loop"
   ]
  },
  {
   "cell_type": "code",
   "execution_count": null,
   "metadata": {},
   "outputs": [],
   "source": [
    "mylist = [10, 20, 30]\n",
    "for item in mylist:\n",
    "    print(item)"
   ]
  },
  {
   "cell_type": "markdown",
   "metadata": {},
   "source": [
    "## Using \"range\" with \"for\" to loop a fixed number of times\n",
    "\n",
    "Sometimes you need to execute a code-section for a fixed number of times *n*. This can be used by combinging `range(n)` with `for`. `range(n)` creates something similar to a list with *n* numbers in it going from *0* to *n-1*:"
   ]
  },
  {
   "cell_type": "code",
   "execution_count": null,
   "metadata": {},
   "outputs": [],
   "source": [
    "# The following block will loop 10 times\n",
    "for i in range(10):\n",
    "    print(i)"
   ]
  },
  {
   "cell_type": "markdown",
   "metadata": {},
   "source": [
    "### Example: Swap Values\n",
    "\n",
    "Complete the program below so that the values of `x` and `y` are exchanged. It starts with `x=5` and `y=10`. When printing out the values it should read:\n",
    "\n",
    "    10\n",
    "    5"
   ]
  },
  {
   "cell_type": "code",
   "execution_count": null,
   "metadata": {},
   "outputs": [],
   "source": [
    "x = 5\n",
    "y = 10\n",
    "# < Write your code here >\n",
    "print(x)\n",
    "print(y)"
   ]
  },
  {
   "cell_type": "markdown",
   "metadata": {},
   "source": [
    "### Exercise: FizzBuzz\n",
    "\n",
    "The following program uses `range` to loop over all numbers from 1-100 (both included). The program below should:\n",
    "\n",
    "* print \"Fizz\" if the number `n` is divisible by 3\n",
    "* print \"Buzz\" if the number `n` is divisible by 5\n",
    "* print \"FizzBuzz\" if the number `n` is divisible by 3 and 5 (f.ex.: `15`)\n",
    "* for all other cases it should print the number `n`"
   ]
  },
  {
   "cell_type": "code",
   "execution_count": null,
   "metadata": {},
   "outputs": [],
   "source": [
    "for n in range(1, 101):\n",
    "    pass"
   ]
  },
  {
   "cell_type": "markdown",
   "metadata": {},
   "source": [
    "### Exercise: Convert Hexadecimal to Decimal\n",
    "\n",
    "* In base-2, we use the symbols `0` and `1` to represent numbers.\n",
    "* In base-10 we use the symbols `0`, `1`, `2`, `3`, `4`, `5`, `6`, `7`, `8`, `9` to represent numbers.\n",
    "* In base-16 we take the symbold from base-10 and add `a`, `b`, `c`, `d`, `e` and `f`.\n",
    "\n",
    "Some test value:\n",
    "\n",
    "* `hex_value = \"0\"` should result in `0`\n",
    "* `hex_value = \"10\"` should result in `16`\n",
    "* `hex_value = \"1000\"` should result in `4096`\n",
    "* `hex_value = \"ff\"` should result in `255`\n",
    "* `hex_value = \"12ab\"` should result in `4779`\n",
    "\n",
    "The code below takes the value in the variable `hex_value`, converts it to a decimal number and prints the result.\n",
    "\n",
    "Complete the code:"
   ]
  },
  {
   "cell_type": "code",
   "execution_count": null,
   "metadata": {},
   "outputs": [],
   "source": [
    "hex_value = \"12ab\"\n",
    "\n",
    "# TIP: You can use symbols.find(?) to get the position of a symbol.\n",
    "#      Remember, a symbol is 1 character of the \"hex value\"\n",
    "symbols = \"0123456789abcdef\"\n",
    "\n",
    "result = 0\n",
    "\n",
    "# We use \"position\" to keep track of the position in the hex-value.\n",
    "position = 0\n",
    "\n",
    "# TIP: In Python we can use \"reversed(...)\" to loop over letters in a\n",
    "#      string in reverse order. So, looping over reversed(\"abc\")\n",
    "#      will actually loop over \"cba\".\n",
    "for symbol in reversed(hex_value):\n",
    "    # <<< Insert your code here >>>\n",
    "    position += 1\n",
    "    \n",
    "print(f\"The hexadecimal number {hex_value} converted to decimal is: {result}\")"
   ]
  },
  {
   "cell_type": "markdown",
   "metadata": {},
   "source": [
    "### Exercise: Count the numbers of upper-case letters in a string\n",
    "\n",
    "Complete the following code. Example test-data:\n",
    "\n",
    "* `HellO WORLD` = `7`\n",
    "* `hello world` = `0`\n",
    "* `HELLO WORLD` = `10`\n",
    "\n",
    "**TIP**: You can use `in` to test if a value is inside a string. For example, `\"x\" in \"Schnitzel\"` will be false, `\"S\" in \"Schnitzel\"` will be true, and `\"s\" in \"Schnitzel\"` will be false again. Use this to write an `if` statement in the `for` loop."
   ]
  },
  {
   "cell_type": "code",
   "execution_count": null,
   "metadata": {},
   "outputs": [],
   "source": [
    "uppercase_letters = \"ABCDEFGHIJKLMNOPQRSTUVWXYZ\"\n",
    "string = \"HELLO WORLD\"\n",
    "result = 0\n",
    "for character in string:\n",
    "    # <<< Insert your code here >>>\n",
    "print(result)"
   ]
  }
 ],
 "metadata": {
  "kernelspec": {
   "display_name": "Python 3",
   "language": "python",
   "name": "python3"
  },
  "language_info": {
   "codemirror_mode": {
    "name": "ipython",
    "version": 3
   },
   "file_extension": ".py",
   "mimetype": "text/x-python",
   "name": "python",
   "nbconvert_exporter": "python",
   "pygments_lexer": "ipython3",
   "version": "3.8.0"
  }
 },
 "nbformat": 4,
 "nbformat_minor": 4
}
